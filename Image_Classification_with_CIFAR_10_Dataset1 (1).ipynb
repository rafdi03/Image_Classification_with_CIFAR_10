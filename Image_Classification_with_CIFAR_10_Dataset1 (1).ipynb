{
 "cells": [
  {
   "cell_type": "markdown",
   "metadata": {
    "id": "fG-QXKWgcwNL"
   },
   "source": [
    "1. Klasifikasi Gambar dengan Dataset CIFAR-10\n",
    "\n",
    "* Deskripsi: Gunakan dataset CIFAR-10 yang terdiri dari 60.000 gambar dalam 10 kategori berbeda (seperti pesawat, mobil, burung, dll). Proyek ini akan menguji kemampuan Anda dalam menggunakan CNN untuk klasifikasi gambar.\n",
    "* Tujuan: Memahami dasar-dasar CNN dan proses klasifikasi gambar dalam masalah yang lebih sederhana.\n",
    "\n",
    "Referensi: CIFAR-10 Dataset"
   ]
  },
  {
   "cell_type": "code",
   "execution_count": 1,
   "metadata": {
    "colab": {
     "base_uri": "https://localhost:8080/",
     "height": 91
    },
    "id": "7-ZysHQUcpTn",
    "outputId": "2012f12c-b258-4837-991d-8574fdf86c23",
    "scrolled": true
   },
   "outputs": [
    {
     "name": "stdout",
     "output_type": "stream",
     "text": [
      "Requirement already satisfied: kaggle in c:\\users\\aryag\\anaconda3\\lib\\site-packages (1.6.17)\n",
      "Requirement already satisfied: six>=1.10 in c:\\users\\aryag\\anaconda3\\lib\\site-packages (from kaggle) (1.16.0)\n",
      "Requirement already satisfied: certifi>=2023.7.22 in c:\\users\\aryag\\anaconda3\\lib\\site-packages (from kaggle) (2024.2.2)\n",
      "Requirement already satisfied: python-dateutil in c:\\users\\aryag\\anaconda3\\lib\\site-packages (from kaggle) (2.8.2)\n",
      "Requirement already satisfied: requests in c:\\users\\aryag\\anaconda3\\lib\\site-packages (from kaggle) (2.31.0)\n",
      "Requirement already satisfied: tqdm in c:\\users\\aryag\\anaconda3\\lib\\site-packages (from kaggle) (4.65.0)\n",
      "Requirement already satisfied: python-slugify in c:\\users\\aryag\\anaconda3\\lib\\site-packages (from kaggle) (5.0.2)\n",
      "Requirement already satisfied: urllib3 in c:\\users\\aryag\\anaconda3\\lib\\site-packages (from kaggle) (1.26.16)\n",
      "Requirement already satisfied: bleach in c:\\users\\aryag\\anaconda3\\lib\\site-packages (from kaggle) (4.1.0)\n",
      "Requirement already satisfied: packaging in c:\\users\\aryag\\anaconda3\\lib\\site-packages (from bleach->kaggle) (23.1)\n",
      "Requirement already satisfied: webencodings in c:\\users\\aryag\\anaconda3\\lib\\site-packages (from bleach->kaggle) (0.5.1)\n",
      "Requirement already satisfied: text-unidecode>=1.3 in c:\\users\\aryag\\anaconda3\\lib\\site-packages (from python-slugify->kaggle) (1.3)\n",
      "Requirement already satisfied: charset-normalizer<4,>=2 in c:\\users\\aryag\\anaconda3\\lib\\site-packages (from requests->kaggle) (2.0.4)\n",
      "Requirement already satisfied: idna<4,>=2.5 in c:\\users\\aryag\\anaconda3\\lib\\site-packages (from requests->kaggle) (3.4)\n",
      "Requirement already satisfied: colorama in c:\\users\\aryag\\anaconda3\\lib\\site-packages (from tqdm->kaggle) (0.4.6)\n",
      "Note: you may need to restart the kernel to use updated packages.\n"
     ]
    },
    {
     "name": "stderr",
     "output_type": "stream",
     "text": [
      "\n",
      "[notice] A new release of pip is available: 24.0 -> 24.3.1\n",
      "[notice] To update, run: python.exe -m pip install --upgrade pip\n"
     ]
    }
   ],
   "source": [
    "pip install kaggle"
   ]
  },
  {
   "cell_type": "code",
   "execution_count": 2,
   "metadata": {},
   "outputs": [
    {
     "name": "stderr",
     "output_type": "stream",
     "text": [
      "The syntax of the command is incorrect.\n",
      "'mv' is not recognized as an internal or external command,\n",
      "operable program or batch file.\n",
      "'chmod' is not recognized as an internal or external command,\n",
      "operable program or batch file.\n"
     ]
    }
   ],
   "source": [
    "!mkdir ~/.kaggle\n",
    "!mv kaggle.json ~/.kaggle/\n",
    "!chmod 600 ~/.kaggle/kaggle.json"
   ]
  },
  {
   "cell_type": "code",
   "execution_count": 3,
   "metadata": {},
   "outputs": [
    {
     "name": "stdout",
     "output_type": "stream",
     "text": [
      "403 - Forbidden - Permission 'datasets.get' was denied\n"
     ]
    }
   ],
   "source": [
    "!kaggle datasets download -d [username/datasetname]"
   ]
  },
  {
   "cell_type": "code",
   "execution_count": 4,
   "metadata": {},
   "outputs": [],
   "source": [
    "import zipfile\n",
    "\n",
    "with zipfile.ZipFile(\"cifar10-python.zip\", \"r\") as zip_ref:\n",
    "    zip_ref.extractall(\"cifar10\")"
   ]
  },
  {
   "cell_type": "code",
   "execution_count": 5,
   "metadata": {
    "id": "mCoL1jcGdayb"
   },
   "outputs": [
    {
     "name": "stdout",
     "output_type": "stream",
     "text": [
      "WARNING:tensorflow:From C:\\Users\\aryag\\anaconda3\\Lib\\site-packages\\keras\\src\\losses.py:2976: The name tf.losses.sparse_softmax_cross_entropy is deprecated. Please use tf.compat.v1.losses.sparse_softmax_cross_entropy instead.\n",
      "\n",
      "Data pelatihan: (40000, 32, 32, 3)\n",
      "Data validasi: (10000, 32, 32, 3)\n",
      "Data pengujian: (10000, 32, 32, 3)\n"
     ]
    }
   ],
   "source": [
    "import os\n",
    "import pickle\n",
    "import numpy as np\n",
    "from sklearn.model_selection import train_test_split\n",
    "from tensorflow.keras.utils import to_categorical\n",
    "from tensorflow.keras.preprocessing.image import ImageDataGenerator\n",
    "\n",
    "def load_cifar_batch(filename):\n",
    "    with open(filename, 'rb') as f:\n",
    "        datadict = pickle.load(f, encoding='bytes')\n",
    "    return datadict\n",
    "\n",
    "def load_cifar10(data_dir):\n",
    "    batch_files = [f'data_batch_{i+1}' for i in range(5)]\n",
    "    data = []\n",
    "    labels = []\n",
    "\n",
    "    for batch_file in batch_files:\n",
    "        batch = load_cifar_batch(os.path.join(data_dir, 'cifar-10-batches-py', batch_file))\n",
    "        data.append(batch[b'data'])\n",
    "        labels.append(batch[b'labels'])\n",
    "\n",
    "    data = np.concatenate(data)\n",
    "    labels = np.concatenate(labels)\n",
    "\n",
    "    test_batch = load_cifar_batch(os.path.join(data_dir, 'cifar-10-batches-py', 'test_batch'))\n",
    "    test_data = test_batch[b'data']\n",
    "    test_labels = test_batch[b'labels']\n",
    "\n",
    "    return data, labels, test_data, test_labels\n",
    "\n",
    "data_dir = r'File_Name'\n",
    "\n",
    "train_data, train_labels, test_data, test_labels = load_cifar10(data_dir)\n",
    "\n",
    "train_data = train_data.reshape(-1, 32, 32, 3)\n",
    "test_data = test_data.reshape(-1, 32, 32, 3)\n",
    "\n",
    "x_train, x_val, y_train, y_val = train_test_split(train_data, train_labels, test_size=0.2, random_state=42)\n",
    "\n",
    "y_train = to_categorical(y_train, 10)\n",
    "y_val = to_categorical(y_val, 10)\n",
    "test_labels = to_categorical(test_labels, 10)\n",
    "\n",
    "print('Data pelatihan:', x_train.shape)\n",
    "print('Data validasi:', x_val.shape)\n",
    "print('Data pengujian:', test_data.shape)\n"
   ]
  },
  {
   "cell_type": "code",
   "execution_count": 6,
   "metadata": {
    "colab": {
     "base_uri": "https://localhost:8080/"
    },
    "id": "evfpWOzGeDjI",
    "outputId": "6b8faf6e-42e8-4214-b63c-4c1fe2efb238"
   },
   "outputs": [
    {
     "data": {
      "text/plain": [
       "['batches.meta',\n",
       " 'data_batch_1',\n",
       " 'data_batch_2',\n",
       " 'data_batch_3',\n",
       " 'data_batch_4',\n",
       " 'data_batch_5',\n",
       " 'readme.html',\n",
       " 'test_batch']"
      ]
     },
     "execution_count": 6,
     "metadata": {},
     "output_type": "execute_result"
    }
   ],
   "source": [
    "import os\n",
    "os.listdir('cifar10/cifar-10-batches-py')"
   ]
  },
  {
   "cell_type": "code",
   "execution_count": 7,
   "metadata": {
    "colab": {
     "base_uri": "https://localhost:8080/"
    },
    "id": "23aDg2L1eXaw",
    "outputId": "9790c954-dbd3-4d84-e190-fcd2529ff44f"
   },
   "outputs": [],
   "source": [
    "import cv2\n",
    "import numpy as np\n",
    "from tensorflow.keras.preprocessing.image import ImageDataGenerator\n",
    "\n",
    "train_data_resized = np.array([cv2.resize(img, (64, 64)) for img in x_train])\n",
    "val_data_resized = np.array([cv2.resize(img, (64, 64)) for img in x_val])\n",
    "test_data_resized = np.array([cv2.resize(img, (64, 64)) for img in test_data])\n",
    "\n",
    "train_datagen = ImageDataGenerator(\n",
    "    rotation_range=15,\n",
    "    width_shift_range=0.1,\n",
    "    height_shift_range=0.1,\n",
    "    horizontal_flip=True,\n",
    "    rescale=1.0/255\n",
    ")\n",
    "\n",
    "val_datagen = ImageDataGenerator(rescale=1.0/255)\n",
    "test_datagen = ImageDataGenerator(rescale=1.0/255)\n",
    "\n",
    "train_generator = train_datagen.flow(train_data_resized, y_train, batch_size=64)\n",
    "val_generator = val_datagen.flow(val_data_resized, y_val, batch_size=64)\n",
    "test_generator = test_datagen.flow(test_data_resized, test_labels, batch_size=64)"
   ]
  },
  {
   "cell_type": "code",
   "execution_count": 10,
   "metadata": {},
   "outputs": [
    {
     "name": "stdout",
     "output_type": "stream",
     "text": [
      "Epoch 1/30\n",
      "625/625 [==============================] - 86s 135ms/step - loss: 2.0527 - accuracy: 0.3210 - val_loss: 3.0725 - val_accuracy: 0.2590 - lr: 0.0010\n",
      "Epoch 2/30\n",
      "625/625 [==============================] - 84s 134ms/step - loss: 1.6924 - accuracy: 0.4307 - val_loss: 2.4411 - val_accuracy: 0.3697 - lr: 0.0010\n",
      "Epoch 3/30\n",
      "625/625 [==============================] - 85s 137ms/step - loss: 1.5330 - accuracy: 0.4825 - val_loss: 1.6779 - val_accuracy: 0.4536 - lr: 0.0010\n",
      "Epoch 4/30\n",
      "625/625 [==============================] - 85s 135ms/step - loss: 1.4334 - accuracy: 0.5146 - val_loss: 2.1985 - val_accuracy: 0.4085 - lr: 0.0010\n",
      "Epoch 5/30\n",
      "625/625 [==============================] - 84s 134ms/step - loss: 1.3699 - accuracy: 0.5365 - val_loss: 1.9589 - val_accuracy: 0.4191 - lr: 0.0010\n",
      "Epoch 6/30\n",
      "625/625 [==============================] - 87s 139ms/step - loss: 1.3162 - accuracy: 0.5564 - val_loss: 1.3748 - val_accuracy: 0.5303 - lr: 0.0010\n",
      "Epoch 7/30\n",
      "625/625 [==============================] - 148s 237ms/step - loss: 1.2802 - accuracy: 0.5698 - val_loss: 1.8405 - val_accuracy: 0.4493 - lr: 0.0010\n",
      "Epoch 8/30\n",
      "625/625 [==============================] - 158s 253ms/step - loss: 1.2405 - accuracy: 0.5842 - val_loss: 1.4046 - val_accuracy: 0.5491 - lr: 0.0010\n",
      "Epoch 9/30\n",
      "625/625 [==============================] - 153s 245ms/step - loss: 1.2167 - accuracy: 0.5913 - val_loss: 1.1246 - val_accuracy: 0.6339 - lr: 0.0010\n",
      "Epoch 10/30\n",
      "625/625 [==============================] - 153s 244ms/step - loss: 1.1932 - accuracy: 0.6007 - val_loss: 1.2847 - val_accuracy: 0.5926 - lr: 0.0010\n",
      "Epoch 11/30\n",
      "625/625 [==============================] - 154s 246ms/step - loss: 1.1728 - accuracy: 0.6110 - val_loss: 1.3154 - val_accuracy: 0.5831 - lr: 0.0010\n",
      "Epoch 12/30\n",
      "625/625 [==============================] - ETA: 0s - loss: 1.1611 - accuracy: 0.6122\n",
      "Epoch 12: ReduceLROnPlateau reducing learning rate to 0.00020000000949949026.\n",
      "625/625 [==============================] - 116s 186ms/step - loss: 1.1611 - accuracy: 0.6122 - val_loss: 1.2242 - val_accuracy: 0.5982 - lr: 0.0010\n",
      "Epoch 13/30\n",
      "625/625 [==============================] - 86s 138ms/step - loss: 1.0806 - accuracy: 0.6413 - val_loss: 1.0440 - val_accuracy: 0.6599 - lr: 2.0000e-04\n",
      "Epoch 14/30\n",
      "625/625 [==============================] - 83s 132ms/step - loss: 1.0524 - accuracy: 0.6511 - val_loss: 1.0531 - val_accuracy: 0.6640 - lr: 2.0000e-04\n",
      "Epoch 15/30\n",
      "625/625 [==============================] - 83s 133ms/step - loss: 1.0452 - accuracy: 0.6546 - val_loss: 0.9977 - val_accuracy: 0.6772 - lr: 2.0000e-04\n",
      "Epoch 16/30\n",
      "625/625 [==============================] - 83s 132ms/step - loss: 1.0314 - accuracy: 0.6549 - val_loss: 1.0983 - val_accuracy: 0.6518 - lr: 2.0000e-04\n",
      "Epoch 17/30\n",
      "625/625 [==============================] - 82s 131ms/step - loss: 1.0229 - accuracy: 0.6593 - val_loss: 1.0503 - val_accuracy: 0.6656 - lr: 2.0000e-04\n",
      "Epoch 18/30\n",
      "625/625 [==============================] - ETA: 0s - loss: 1.0231 - accuracy: 0.6589\n",
      "Epoch 18: ReduceLROnPlateau reducing learning rate to 4.0000001899898055e-05.\n",
      "625/625 [==============================] - 81s 130ms/step - loss: 1.0231 - accuracy: 0.6589 - val_loss: 1.0603 - val_accuracy: 0.6621 - lr: 2.0000e-04\n",
      "Epoch 19/30\n",
      "625/625 [==============================] - 82s 132ms/step - loss: 1.0012 - accuracy: 0.6651 - val_loss: 0.9804 - val_accuracy: 0.6817 - lr: 4.0000e-05\n",
      "Epoch 20/30\n",
      "625/625 [==============================] - 83s 132ms/step - loss: 0.9964 - accuracy: 0.6666 - val_loss: 1.0010 - val_accuracy: 0.6789 - lr: 4.0000e-05\n",
      "Epoch 21/30\n",
      "625/625 [==============================] - 82s 132ms/step - loss: 0.9915 - accuracy: 0.6675 - val_loss: 1.0063 - val_accuracy: 0.6786 - lr: 4.0000e-05\n",
      "Epoch 22/30\n",
      "625/625 [==============================] - ETA: 0s - loss: 0.9930 - accuracy: 0.6690\n",
      "Epoch 22: ReduceLROnPlateau reducing learning rate to 8.000000525498762e-06.\n",
      "625/625 [==============================] - 82s 131ms/step - loss: 0.9930 - accuracy: 0.6690 - val_loss: 1.0078 - val_accuracy: 0.6787 - lr: 4.0000e-05\n",
      "Epoch 23/30\n",
      "625/625 [==============================] - 82s 132ms/step - loss: 0.9892 - accuracy: 0.6692 - val_loss: 0.9915 - val_accuracy: 0.6845 - lr: 8.0000e-06\n",
      "Epoch 24/30\n",
      "625/625 [==============================] - 82s 131ms/step - loss: 0.9849 - accuracy: 0.6708 - val_loss: 0.9854 - val_accuracy: 0.6846 - lr: 8.0000e-06\n",
      "Epoch 25/30\n",
      "625/625 [==============================] - ETA: 0s - loss: 0.9847 - accuracy: 0.6728\n",
      "Epoch 25: ReduceLROnPlateau reducing learning rate to 1.6000001778593287e-06.\n",
      "625/625 [==============================] - 84s 134ms/step - loss: 0.9847 - accuracy: 0.6728 - val_loss: 0.9952 - val_accuracy: 0.6843 - lr: 8.0000e-06\n",
      "Epoch 26/30\n",
      "625/625 [==============================] - 86s 137ms/step - loss: 0.9847 - accuracy: 0.6712 - val_loss: 0.9823 - val_accuracy: 0.6844 - lr: 1.6000e-06\n",
      "Epoch 27/30\n",
      "625/625 [==============================] - 96s 154ms/step - loss: 0.9847 - accuracy: 0.6704 - val_loss: 0.9774 - val_accuracy: 0.6841 - lr: 1.6000e-06\n",
      "Epoch 28/30\n",
      "625/625 [==============================] - 90s 144ms/step - loss: 0.9779 - accuracy: 0.6731 - val_loss: 0.9809 - val_accuracy: 0.6852 - lr: 1.6000e-06\n",
      "Epoch 29/30\n",
      "625/625 [==============================] - 97s 155ms/step - loss: 0.9807 - accuracy: 0.6737 - val_loss: 0.9793 - val_accuracy: 0.6854 - lr: 1.6000e-06\n",
      "Epoch 30/30\n",
      "625/625 [==============================] - ETA: 0s - loss: 0.9828 - accuracy: 0.6718\n",
      "Epoch 30: ReduceLROnPlateau reducing learning rate to 3.200000264769187e-07.\n",
      "625/625 [==============================] - 166s 266ms/step - loss: 0.9828 - accuracy: 0.6718 - val_loss: 0.9851 - val_accuracy: 0.6851 - lr: 1.6000e-06\n",
      "Model: \"sequential_2\"\n",
      "_________________________________________________________________\n",
      " Layer (type)                Output Shape              Param #   \n",
      "=================================================================\n",
      " conv2d_6 (Conv2D)           (None, 32, 32, 32)        896       \n",
      "                                                                 \n",
      " batch_normalization_6 (Bat  (None, 32, 32, 32)        128       \n",
      " chNormalization)                                                \n",
      "                                                                 \n",
      " max_pooling2d_6 (MaxPoolin  (None, 16, 16, 32)        0         \n",
      " g2D)                                                            \n",
      "                                                                 \n",
      " dropout_8 (Dropout)         (None, 16, 16, 32)        0         \n",
      "                                                                 \n",
      " conv2d_7 (Conv2D)           (None, 16, 16, 64)        18496     \n",
      "                                                                 \n",
      " batch_normalization_7 (Bat  (None, 16, 16, 64)        256       \n",
      " chNormalization)                                                \n",
      "                                                                 \n",
      " max_pooling2d_7 (MaxPoolin  (None, 8, 8, 64)          0         \n",
      " g2D)                                                            \n",
      "                                                                 \n",
      " dropout_9 (Dropout)         (None, 8, 8, 64)          0         \n",
      "                                                                 \n",
      " conv2d_8 (Conv2D)           (None, 8, 8, 256)         147712    \n",
      "                                                                 \n",
      " batch_normalization_8 (Bat  (None, 8, 8, 256)         1024      \n",
      " chNormalization)                                                \n",
      "                                                                 \n",
      " max_pooling2d_8 (MaxPoolin  (None, 4, 4, 256)         0         \n",
      " g2D)                                                            \n",
      "                                                                 \n",
      " dropout_10 (Dropout)        (None, 4, 4, 256)         0         \n",
      "                                                                 \n",
      " global_average_pooling2d_2  (None, 256)               0         \n",
      "  (GlobalAveragePooling2D)                                       \n",
      "                                                                 \n",
      " dense_4 (Dense)             (None, 256)               65792     \n",
      "                                                                 \n",
      " dropout_11 (Dropout)        (None, 256)               0         \n",
      "                                                                 \n",
      " dense_5 (Dense)             (None, 10)                2570      \n",
      "                                                                 \n",
      "=================================================================\n",
      "Total params: 236874 (925.29 KB)\n",
      "Trainable params: 236170 (922.54 KB)\n",
      "Non-trainable params: 704 (2.75 KB)\n",
      "_________________________________________________________________\n",
      "157/157 [==============================] - 13s 84ms/step - loss: 0.9910 - accuracy: 0.6785\n",
      "Accuracy pada data pengujian: 67.85%\n"
     ]
    },
    {
     "data": {
      "image/png": "[encoded data removed]",
      "text/plain": [
       "<Figure size 640x480 with 1 Axes>"
      ]
     },
     "metadata": {},
     "output_type": "display_data"
    }
   ],
   "source": [
    "import tensorflow as tf\n",
    "from tensorflow.keras.callbacks import ReduceLROnPlateau\n",
    "from tensorflow.keras import layers, models, regularizers\n",
    "import matplotlib.pyplot as plt\n",
    "\n",
    "# Membangun model CNN\n",
    "model_cnn = models.Sequential([\n",
    "    layers.Conv2D(32, (3, 3), padding='same', activation='relu', input_shape=(32, 32, 3)),\n",
    "    layers.BatchNormalization(),\n",
    "    layers.MaxPooling2D((2, 2)),\n",
    "    layers.Dropout(0.2),\n",
    "\n",
    "    layers.Conv2D(64, (3, 3), padding='same', activation='relu'),\n",
    "    layers.BatchNormalization(),\n",
    "    layers.MaxPooling2D((2, 2)),\n",
    "    layers.Dropout(0.2),\n",
    "    \n",
    "    layers.Conv2D(256, (3, 3), padding='same', activation='relu'),\n",
    "    layers.BatchNormalization(),\n",
    "    layers.MaxPooling2D((2, 2)),\n",
    "    layers.Dropout(0.2),\n",
    "\n",
    "    layers.Conv2D(512, (3, 3), padding='same', activation='relu'),\n",
    "    layers.BatchNormalization(),\n",
    "    layers.MaxPooling2D((2, 2)),\n",
    "    layers.Dropout(0.2),\n",
    "\n",
    "    layers.GlobalAveragePooling2D(),\n",
    "\n",
    "    layers.Dense(256, activation='relu', kernel_regularizer=regularizers.l2(0.001)),\n",
    "    layers.Dropout(0.5),\n",
    "    layers.Dense(10, activation='softmax')\n",
    "])\n",
    "\n",
    "model_cnn.compile(optimizer='Adam', loss='categorical_crossentropy', metrics=['accuracy'])\n",
    "\n",
    "reduce_lr = ReduceLROnPlateau(monitor='val_loss', factor=0.2, patience=3, verbose=1)\n",
    "\n",
    "# Melatih model dan menyimpan history\n",
    "history_cnn = model_cnn.fit(train_generator, epochs=30, validation_data=val_generator, callbacks=[reduce_lr])\n",
    "\n",
    "# Menampilkan ringkasan model\n",
    "model_cnn.summary()\n",
    "\n",
    "# Mengevaluasi model pada data pengujian\n",
    "test_loss, test_acc = model_cnn.evaluate(test_generator)\n",
    "print(f'Accuracy pada data pengujian: {test_acc * 100:.2f}%')\n",
    "\n",
    "# Plot grafik akurasi dan akurasi validasi\n",
    "plt.plot(history_cnn.history['accuracy'], label='Accuracy')\n",
    "plt.plot(history_cnn.history['val_accuracy'], label = 'Val Accuracy')\n",
    "plt.xlabel('Epoch')\n",
    "plt.ylabel('Accuracy')\n",
    "plt.ylim([0, 1])\n",
    "plt.legend(loc='lower right')\n",
    "plt.title('Model CNN Accuracy')\n",
    "plt.show()"
   ]
  },
  {
   "cell_type": "code",
   "execution_count": 14,
   "metadata": {},
   "outputs": [
    {
     "name": "stderr",
     "output_type": "stream",
     "text": [
      "C:\\Users\\aryag\\anaconda3\\Lib\\site-packages\\keras\\src\\engine\\training.py:3103: UserWarning: You are saving your model as an HDF5 file via `model.save()`. This file format is considered legacy. We recommend using instead the native Keras format, e.g. `model.save('my_model.keras')`.\n",
      "  saving_api.save_model(\n"
     ]
    }
   ],
   "source": [
    "model_cnn.save('cifar10_cnn_model3.h5')"
   ]
  },
  {
   "cell_type": "code",
   "execution_count": 15,
   "metadata": {},
   "outputs": [
    {
     "name": "stdout",
     "output_type": "stream",
     "text": [
      "157/157 [==============================] - 11s 64ms/step - loss: 0.9910 - accuracy: 0.6785\n",
      "Accuracy pada data pengujian: 67.85%\n"
     ]
    }
   ],
   "source": [
    "from tensorflow.keras.models import load_model\n",
    "\n",
    "model_cnn = load_model('cifar10_cnn_model3.h5')\n",
    "\n",
    "# Mengevaluasi model pada data pengujian\n",
    "test_loss, test_acc = model_cnn.evaluate(test_generator)\n",
    "print(f'Accuracy pada data pengujian: {test_acc * 100:.2f}%')"
   ]
  },
  {
   "cell_type": "code",
   "execution_count": 16,
   "metadata": {},
   "outputs": [
    {
     "name": "stdout",
     "output_type": "stream",
     "text": [
      "313/313 [==============================] - 80s 223ms/step\n"
     ]
    },
    {
     "data": {
      "image/png": "[encoded data removed]",
      "text/plain": [
       "<Figure size 640x480 with 1 Axes>"
      ]
     },
     "metadata": {},
     "output_type": "display_data"
    }
   ],
   "source": [
    "predictions = model.predict(test_data_resized)\n",
    "\n",
    "# Get the predicted label and the true label of the first test image\n",
    "predicted_label = np.argmax(predictions[1])\n",
    "true_label = np.argmax(test_labels[1])\n",
    "\n",
    "# Display the first test image and its prediction\n",
    "plt.imshow(test_data_resized[0])\n",
    "plt.title(f\"Predicted: {predicted_label}, True: {true_label}\")\n",
    "plt.axis('off')  # Hide the axis\n",
    "plt.show()"
   ]
  },
  {
   "cell_type": "code",
   "execution_count": null,
   "metadata": {},
   "outputs": [],
   "source": [
    "import matplotlib.pyplot as plt\n",
    "\n",
    "# Menampilkan beberapa gambar dan prediksi\n",
    "for i in range(5):\n",
    "    plt.imshow(test_data[i])\n",
    "    plt.title(f\"Prediksi: {np.argmax(predictions[i])}, Label Asli: {np.argmax(test_labels[i])}\")\n",
    "    plt.show()"
   ]
  },
  {
   "cell_type": "code",
   "execution_count": null,
   "metadata": {
    "colab": {
     "background_save": true
    },
    "id": "s4Ae5YJ33VQ0",
    "outputId": "a956295c-52cf-4b27-c306-cd582f818d1a"
   },
   "outputs": [],
   "source": [
    "# Mengambil gambar pertama dari data pengujian\n",
    "image = test_data[0]\n",
    "plt.imshow(image)\n",
    "plt.show()\n",
    "\n",
    "# Melakukan prediksi\n",
    "prediction = model.predict(np.expand_dims(image, axis=0))\n",
    "predicted_label = np.argmax(prediction)\n",
    "\n",
    "# Menampilkan label yang diprediksi\n",
    "print(\"Predicted label:\", predicted_label)\n"
   ]
  },
  {
   "cell_type": "markdown",
   "metadata": {
    "id": "VNLg7qw49w3Y"
   },
   "source": [
    "- Pesawat (airplane) 0\n",
    "- Mobil (automobile) 1\n",
    "- Burung (bird)      2\n",
    "- Kucing (cat) 3\n",
    "- Rusa (deer) 4\n",
    "- Anjing (dog) 5\n",
    "- Katak (frog) 6\n",
    "- Kuda (horse) 7\n",
    "- Kapal (ship) 8\n",
    "- Truk (truck) 9"
   ]
  },
  {
   "cell_type": "code",
   "execution_count": null,
   "metadata": {},
   "outputs": [],
   "source": []
  }
 ],
 "metadata": {
  "accelerator": "GPU",
  "colab": {
   "gpuType": "T4",
   "provenance": []
  },
  "kernelspec": {
   "display_name": "Python 3 (ipykernel)",
   "language": "python",
   "name": "python3"
  },
  "language_info": {
   "codemirror_mode": {
    "name": "ipython",
    "version": 3
   },
   "file_extension": ".py",
   "mimetype": "text/x-python",
   "name": "python",
   "nbconvert_exporter": "python",
   "pygments_lexer": "ipython3",
   "version": "3.11.5"
  }
 },
 "nbformat": 4,
 "nbformat_minor": 1
}
